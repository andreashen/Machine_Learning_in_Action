{
 "cells": [
  {
   "cell_type": "markdown",
   "metadata": {
    "deletable": true,
    "editable": true
   },
   "source": [
    "# simple implementation of SMO"
   ]
  },
  {
   "cell_type": "code",
   "execution_count": 15,
   "metadata": {
    "collapsed": false,
    "deletable": true,
    "editable": true
   },
   "outputs": [],
   "source": [
    "# import relative libraries\n",
    "from numpy import *\n",
    "import numpy as np"
   ]
  },
  {
   "cell_type": "markdown",
   "metadata": {},
   "source": [
    "## 1. Define auxiliary functions"
   ]
  },
  {
   "cell_type": "code",
   "execution_count": 2,
   "metadata": {
    "collapsed": true,
    "deletable": true,
    "editable": true
   },
   "outputs": [],
   "source": [
    "# Load data set from text files\n",
    "def loadDataSet(filename):\n",
    "    dataMat = []\n",
    "    labelMat = []\n",
    "    f = open(filename)\n",
    "    for line in f.readlines():\n",
    "        lineArr = line.strip().split('\\t')\n",
    "        dataMat.append([float(lineArr[0]), float(lineArr[1])])\n",
    "        labelMat.append(float(lineArr[2]))\n",
    "    return dataMat, labelMat"
   ]
  },
  {
   "cell_type": "code",
   "execution_count": 3,
   "metadata": {
    "collapsed": true
   },
   "outputs": [],
   "source": [
    "# get a random j belonging to uniform[0, m) && j != i\n",
    "def selectJrand(i, m):\n",
    "    j = i\n",
    "    while(j == i):\n",
    "        j = int(random.uniform(0,m))\n",
    "    return j"
   ]
  },
  {
   "cell_type": "code",
   "execution_count": 4,
   "metadata": {
    "collapsed": true
   },
   "outputs": [],
   "source": [
    "# limit alpha between [L, H]\n",
    "def clipAlpha(aj, H, L):\n",
    "    if aj > H:\n",
    "        aj = H\n",
    "    if aj < L:\n",
    "        aj = L\n",
    "    return aj"
   ]
  },
  {
   "cell_type": "markdown",
   "metadata": {},
   "source": [
    "## 2. simplified SMO"
   ]
  },
  {
   "cell_type": "markdown",
   "metadata": {},
   "source": [
    "Define\n",
    "$$\n",
    "f(x;i) = (\\alpha \\cdot y)^{\\rm{T}}xx_i^{\\rm{T}}+b\n",
    "$$\n",
    "Here:\n",
    "- y -- label\n",
    "- x -- feature matrix\n",
    "- $\\alpha$ -- Lagrangian multiplier\n",
    "- b -- bias\n"
   ]
  },
  {
   "cell_type": "code",
   "execution_count": 48,
   "metadata": {
    "collapsed": true
   },
   "outputs": [],
   "source": [
    "# see formula above↑\n",
    "def fX(alphas, labelMat, dataMatrix, b, i):\n",
    "    return float(multiply(alphas, labelMat).T *\\\n",
    "                (dataMatrix*dataMatrix[i,:].T)) + b"
   ]
  },
  {
   "cell_type": "code",
   "execution_count": null,
   "metadata": {
    "collapsed": true
   },
   "outputs": [],
   "source": [
    "def smoSimple(dataMatIn, classLabels, C, toler, maxIter):\n",
    "    dataMatrix = mat(dataMatIn)\n",
    "    labelMat = mat(classLabels).transpose()\n",
    "    b = 0\n",
    "    [m,n] = shape(dataMatrix)\n",
    "    alphas = mat(zeros(m, 1))\n",
    "    iter = 0\n",
    "    while iter < maxIter:\n",
    "        alphaPairsChanged = 0\n",
    "        for i in range(m):\n",
    "            fXi = fX(alphas, labelMat, dataMatrix, b, i)\n",
    "            Ei = fXi - float(labelMat[i])\n",
    "            if (labelMat[i]*Ei < -toler and alphas[i] < C) \\\n",
    "                or (labelMat[i]*Ei > toler and alphas[i] > 0):\n",
    "                    j = selectJrand(i, m)\n",
    "                    fXj = fX(alphas, labelMat, dataMatrix, b, j)\n",
    "                    Ej = fXj - float(labelMat[j])\n",
    "                    alphaIold = alphas[i].copy()\n",
    "                    alphaJold = alphas[j].copy()\n",
    "                    # unfinished 2017.7.3"
   ]
  }
 ],
 "metadata": {
  "kernelspec": {
   "display_name": "Python 2",
   "language": "python",
   "name": "python2"
  },
  "language_info": {
   "codemirror_mode": {
    "name": "ipython",
    "version": 2
   },
   "file_extension": ".py",
   "mimetype": "text/x-python",
   "name": "python",
   "nbconvert_exporter": "python",
   "pygments_lexer": "ipython2",
   "version": "2.7.12"
  }
 },
 "nbformat": 4,
 "nbformat_minor": 2
}
