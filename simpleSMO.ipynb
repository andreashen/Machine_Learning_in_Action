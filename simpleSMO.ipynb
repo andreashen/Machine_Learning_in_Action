{
 "cells": [
  {
   "cell_type": "markdown",
   "metadata": {
    "deletable": true,
    "editable": true
   },
   "source": [
    "# simple implementation of SMO"
   ]
  },
  {
   "cell_type": "code",
   "execution_count": 15,
   "metadata": {
    "collapsed": false,
    "deletable": true,
    "editable": true
   },
   "outputs": [],
   "source": [
    "# import relative libraries\n",
    "from numpy import *\n",
    "import numpy as np"
   ]
  },
  {
   "cell_type": "markdown",
   "metadata": {
    "deletable": true,
    "editable": true
   },
   "source": [
    "## 1. Define auxiliary functions"
   ]
  },
  {
   "cell_type": "code",
   "execution_count": 2,
   "metadata": {
    "collapsed": true,
    "deletable": true,
    "editable": true
   },
   "outputs": [],
   "source": [
    "# Load data set from text files\n",
    "def loadDataSet(filename):\n",
    "    dataMat = []\n",
    "    labelMat = []\n",
    "    f = open(filename)\n",
    "    for line in f.readlines():\n",
    "        lineArr = line.strip().split('\\t')\n",
    "        dataMat.append([float(lineArr[0]), float(lineArr[1])])\n",
    "        labelMat.append(float(lineArr[2]))\n",
    "    return dataMat, labelMat"
   ]
  },
  {
   "cell_type": "code",
   "execution_count": 3,
   "metadata": {
    "collapsed": true,
    "deletable": true,
    "editable": true
   },
   "outputs": [],
   "source": [
    "# get a random j belonging to uniform[0, m) && j != i\n",
    "def selectJrand(i, m):\n",
    "    j = i\n",
    "    while(j == i):\n",
    "        j = int(random.uniform(0,m))\n",
    "    return j"
   ]
  },
  {
   "cell_type": "code",
   "execution_count": 4,
   "metadata": {
    "collapsed": true,
    "deletable": true,
    "editable": true
   },
   "outputs": [],
   "source": [
    "# limit alpha between [L, H]\n",
    "def clipAlpha(aj, H, L):\n",
    "    if aj > H:\n",
    "        aj = H\n",
    "    if aj < L:\n",
    "        aj = L\n",
    "    return aj"
   ]
  },
  {
   "cell_type": "markdown",
   "metadata": {
    "deletable": true,
    "editable": true
   },
   "source": [
    "## 2. simplified SMO"
   ]
  },
  {
   "cell_type": "markdown",
   "metadata": {
    "deletable": true,
    "editable": true
   },
   "source": [
    "Define\n",
    "$$\n",
    "f(x;i) = (\\alpha \\cdot y)^{\\rm{T}}xx_i^{\\rm{T}}+b\n",
    "$$\n",
    "Here:\n",
    "- y -- label\n",
    "- x -- feature matrix\n",
    "- $\\alpha$ -- Lagrangian multiplier\n",
    "- b -- bias\n"
   ]
  },
  {
   "cell_type": "code",
   "execution_count": 48,
   "metadata": {
    "collapsed": true,
    "deletable": true,
    "editable": true
   },
   "outputs": [],
   "source": [
    "# see formula above↑\n",
    "def fX(alphas, labelMat, dataMatrix, b, i):\n",
    "    return float(multiply(alphas, labelMat).T \\\n",
    "                 * (dataMatrix*dataMatrix[i,:].T)) + b"
   ]
  },
  {
   "cell_type": "code",
   "execution_count": null,
   "metadata": {
    "collapsed": true,
    "deletable": true,
    "editable": true
   },
   "outputs": [],
   "source": [
    "def smoSimple(dataMatIn, classLabels, C, toler, maxIter):\n",
    "    dataMatrix = mat(dataMatIn)\n",
    "    labelMat = mat(classLabels).transpose()\n",
    "    b = 0\n",
    "    [m,n] = shape(dataMatrix)\n",
    "    alphas = mat(zeros(m, 1))\n",
    "    iter = 0\n",
    "    while iter < maxIter:\n",
    "        alphaPairsChanged = 0\n",
    "        for i in range(m):\n",
    "            fXi = fX(alphas, labelMat, dataMatrix, b, i)\n",
    "            Ei = fXi - float(labelMat[i])\n",
    "            if (labelMat[i]*Ei < -toler and alphas[i] < C) \\\n",
    "                or (labelMat[i]*Ei > toler and alphas[i] > 0):\n",
    "                    j = selectJrand(i, m)\n",
    "                    fXj = fX(alphas, labelMat, dataMatrix, b, j)\n",
    "                    Ej = fXj - float(labelMat[j])\n",
    "                    alphaIold = alphas[i].copy()\n",
    "                    alphaJold = alphas[j].copy()\n",
    "                    if labelMat[i] != labelMat[j]:\n",
    "                        L = max(0, alphas[j] - alphas[i])\n",
    "                        H = min(C, C + alphas[j] - alphas[i])\n",
    "                    else:\n",
    "                        L = max(0, alphas[j] + alphas[i] - C)\n",
    "                        H = min(C, alphas[j] + alphas[i])\n",
    "                    if L == H:\n",
    "                        print 'L==H'\n",
    "                        continue\n",
    "                    eta = 2.0 * dataMatrix[i,:] * dataMatrix[j,:].T \\\n",
    "                        - dataMatrix[i,:] * dataMatrix[i,:].T \\\n",
    "                        - dataMatrix[j,:] * dataMatrix[j,:].T\n",
    "                    if eta >= 0:\n",
    "                        print 'eta >= 0'\n",
    "                        continue\n",
    "                    alphas[j] -= labelMat[j]*(Ei - Ej)/eta\n",
    "                    alphas[j] = clipAlpha(alphas[j], H, L)\n",
    "                    if abs(alphas[j] - alphaJold) < 0.0001:\n",
    "                        print 'j not moving enough'\n",
    "                        continue\n",
    "                    # too sleepy 2017.7.4"
   ]
  }
 ],
 "metadata": {
  "kernelspec": {
   "display_name": "Python 2",
   "language": "python",
   "name": "python2"
  },
  "language_info": {
   "codemirror_mode": {
    "name": "ipython",
    "version": 2
   },
   "file_extension": ".py",
   "mimetype": "text/x-python",
   "name": "python",
   "nbconvert_exporter": "python",
   "pygments_lexer": "ipython2",
   "version": "2.7.12"
  }
 },
 "nbformat": 4,
 "nbformat_minor": 2
}
